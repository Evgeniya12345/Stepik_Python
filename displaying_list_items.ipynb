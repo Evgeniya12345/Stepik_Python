{
 "cells": [
  {
   "cell_type": "markdown",
   "metadata": {},
   "source": [
    "   На вход программе подается натуральное число n, \n",
    "а затем n различных натуральных чисел. Напишите программу, \n",
    "которая удаляет наименьшее и наибольшее значение из указанных чисел,\n",
    "а затем выводит оставшиеся числа каждое на отдельной строке,\n",
    "не меняя их порядок."
   ]
  },
  {
   "cell_type": "code",
   "execution_count": null,
   "metadata": {},
   "outputs": [],
   "source": [
    "n = int(input())\n",
    "lst = []\n",
    "for i in range(n):\n",
    "    v = int(input())\n",
    "    lst.append(v)\n",
    "lst.remove(max(lst))\n",
    "lst.remove(min(lst))\n",
    "print(*lst, sep = '\\n')"
   ]
  },
  {
   "cell_type": "code",
   "execution_count": null,
   "metadata": {},
   "outputs": [],
   "source": []
  },
  {
   "cell_type": "markdown",
   "metadata": {},
   "source": [
    "На вход программе подается натуральное число n, а затем n строк. Напишите программу, \n",
    "которая выводит только уникальные строки, в том же порядке, в котором они были введены."
   ]
  },
  {
   "cell_type": "code",
   "execution_count": null,
   "metadata": {},
   "outputs": [],
   "source": [
    "n = int(input())\n",
    "lst = []\n",
    "for i in range(n):\n",
    "    v = input()\n",
    "    if v not in lst:\n",
    "        lst.append(v)\n",
    "print(*lst, sep = '\\n')\n"
   ]
  },
  {
   "cell_type": "code",
   "execution_count": null,
   "metadata": {},
   "outputs": [],
   "source": []
  },
  {
   "cell_type": "markdown",
   "metadata": {},
   "source": [
    "На вход программе подается натуральное число n, а затем n целых чисел. \n",
    "Напишите программу, которая сначала выводит все отрицательные числа, затем нули, \n",
    "а затем все положительные числа, каждое на отдельной строке. \n",
    "Числа должны быть выведены в том же порядке, в котором они были введены."
   ]
  },
  {
   "cell_type": "code",
   "execution_count": null,
   "metadata": {},
   "outputs": [],
   "source": [
    "n = int(input())\n",
    "lst_neg = []\n",
    "lst_pos = []\n",
    "lst_zero = []\n",
    "for i in range(n):\n",
    "    num = int(input())\n",
    "    if num < 0:\n",
    "        lst_neg.append(num)\n",
    "    if num > 0:\n",
    "        lst_pos.append(num)\n",
    "    if num == 0:\n",
    "        lst_zero.append(num)\n",
    "print(*lst_neg, sep = '\\n')\n",
    "print(*lst_zero, sep = '\\n')\n",
    "print(*lst_pos, sep = '\\n')"
   ]
  },
  {
   "cell_type": "code",
   "execution_count": null,
   "metadata": {},
   "outputs": [],
   "source": []
  },
  {
   "cell_type": "code",
   "execution_count": null,
   "metadata": {},
   "outputs": [],
   "source": []
  },
  {
   "cell_type": "code",
   "execution_count": null,
   "metadata": {},
   "outputs": [],
   "source": []
  }
 ],
 "metadata": {
  "kernelspec": {
   "display_name": "Python 3",
   "language": "python",
   "name": "python3"
  },
  "language_info": {
   "codemirror_mode": {
    "name": "ipython",
    "version": 3
   },
   "file_extension": ".py",
   "mimetype": "text/x-python",
   "name": "python",
   "nbconvert_exporter": "python",
   "pygments_lexer": "ipython3",
   "version": "3.7.3"
  }
 },
 "nbformat": 4,
 "nbformat_minor": 4
}
