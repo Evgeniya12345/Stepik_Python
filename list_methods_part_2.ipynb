{
 "cells": [
  {
   "cell_type": "markdown",
   "metadata": {},
   "source": [
    "Дополните приведенный код, чтобы он:\n",
    "\n",
    "    Заменил второй элемент списка на 17;\n",
    "    Добавил числа 4, 5 и 6 в конец списка;\n",
    "    Удалил первый элемент списка;\n",
    "    Удвоил список;\n",
    "    Вставил число 25 по индексу 3;\n",
    "    Вывел список, с помощью функции print()\n"
   ]
  },
  {
   "cell_type": "code",
   "execution_count": null,
   "metadata": {},
   "outputs": [],
   "source": [
    "numbers = [8, 9, 10, 11]\n",
    "numbers[1] = 17\n",
    "numbers.extend([4, 5, 6])\n",
    "del numbers[0]\n",
    "numbers *= 2\n",
    "numbers.insert(3,25)\n",
    "\n",
    "print(numbers)"
   ]
  },
  {
   "cell_type": "code",
   "execution_count": null,
   "metadata": {},
   "outputs": [],
   "source": []
  },
  {
   "cell_type": "markdown",
   "metadata": {},
   "source": [
    "На вход программе подается строка, содержащая английский текст. Напишите программу, которая подсчитывает общее количество артиклей: 'a', 'an', 'the'.\n",
    "\n",
    "\n",
    "Sample Input:\n",
    "\n",
    "William Shakespeare was born in the town of Stratford, England, in the year 1564,\n",
    "When he was a young man, Shakespeare moved to the city of London, where he began writing plays.\n",
    "His plays were soon very successful, and were enjoyed both by the common people of London and also by \n",
    "the rich and famous. In addition to his plays, Shakespeare wrote many short poems and a few longer \n",
    "poems. Like his plays, these poems are still famous today.\n",
    "\n",
    "Sample Output:\n",
    "\n",
    "Общее количество артиклей: 7\n",
    "\n",
    "\n"
   ]
  },
  {
   "cell_type": "code",
   "execution_count": null,
   "metadata": {},
   "outputs": [],
   "source": [
    "s = input().lower().split()\n",
    "a = s.count('a')\n",
    "an = s.count('an') \n",
    "the = s.count('the')\n",
    "\n",
    "print(f'Общее количество артиклей: {a + an + the}')"
   ]
  },
  {
   "cell_type": "code",
   "execution_count": null,
   "metadata": {},
   "outputs": [],
   "source": []
  },
  {
   "cell_type": "code",
   "execution_count": null,
   "metadata": {},
   "outputs": [],
   "source": []
  },
  {
   "cell_type": "code",
   "execution_count": null,
   "metadata": {},
   "outputs": [],
   "source": []
  }
 ],
 "metadata": {
  "kernelspec": {
   "display_name": "Python 3",
   "language": "python",
   "name": "python3"
  },
  "language_info": {
   "codemirror_mode": {
    "name": "ipython",
    "version": 3
   },
   "file_extension": ".py",
   "mimetype": "text/x-python",
   "name": "python",
   "nbconvert_exporter": "python",
   "pygments_lexer": "ipython3",
   "version": "3.7.3"
  }
 },
 "nbformat": 4,
 "nbformat_minor": 4
}
