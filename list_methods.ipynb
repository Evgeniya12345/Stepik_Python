{
 "cells": [
  {
   "cell_type": "markdown",
   "metadata": {},
   "source": [
    "   На вход программе подается натуральное число n, а затем n строк. Напишите программу, которая создает из указанных строк список и выводит его.\n",
    "\n",
    "    * Формат входных данных\n",
    "На вход программе подаются натуральное число nnn, а затем nnn строк, каждая на отдельной строке.\n",
    "\n",
    "    * Формат выходных данных\n",
    "Программа должна вывести список состоящий из указанных строк."
   ]
  },
  {
   "cell_type": "code",
   "execution_count": null,
   "metadata": {},
   "outputs": [],
   "source": [
    "n = int(input())    # натуральное число\n",
    "lst = []            # создаем список\n",
    "for i in range(5):\n",
    "    v = input() \n",
    "    lst.append()    # добавляем элемент в список\n",
    "print(lst)"
   ]
  },
  {
   "cell_type": "code",
   "execution_count": null,
   "metadata": {},
   "outputs": [],
   "source": [
    "\n"
   ]
  },
  {
   "cell_type": "markdown",
   "metadata": {},
   "source": [
    "Напишите программу, выводящую следующий список:\n",
    "\n",
    "['a', 'bb', 'ccc', 'dddd', 'eeeee', 'ffffff', ...]\n",
    "\n",
    "    * Формат выходных данных\n",
    "Программа должна вывести указанный список.\n",
    "\n",
    "    Примечание. Последний элемент списка состоит из 26 символов z."
   ]
  },
  {
   "cell_type": "code",
   "execution_count": null,
   "metadata": {},
   "outputs": [],
   "source": [
    "lst = []                                      #создаем пустой список\n",
    "count = 1\n",
    "abc = 'abcdefghijklmnopqrstuvwxyz'\n",
    "for i in range(len(abc)):\n",
    "    lst.append(abc[i] * count)                #в пустой список добавляем элементы\n",
    "    count += 1\n",
    "print(lst)                                    #выводим получившийся список"
   ]
  },
  {
   "cell_type": "code",
   "execution_count": null,
   "metadata": {},
   "outputs": [],
   "source": []
  },
  {
   "cell_type": "markdown",
   "metadata": {},
   "source": [
    "На вход программе подается натуральное число nnn, а затем nnn целых чисел. \n",
    "Напишите программу, которая создает из указанных чисел список их кубов."
   ]
  },
  {
   "cell_type": "code",
   "execution_count": null,
   "metadata": {},
   "outputs": [],
   "source": [
    "n = int(input())\n",
    "lst = []\n",
    "for i in range(n):\n",
    "    number = int(input())\n",
    "    lst.append(number ** 3)\n",
    "print(lst)"
   ]
  }
 ],
 "metadata": {
  "kernelspec": {
   "display_name": "Python 3",
   "language": "python",
   "name": "python3"
  },
  "language_info": {
   "codemirror_mode": {
    "name": "ipython",
    "version": 3
   },
   "file_extension": ".py",
   "mimetype": "text/x-python",
   "name": "python",
   "nbconvert_exporter": "python",
   "pygments_lexer": "ipython3",
   "version": "3.7.3"
  }
 },
 "nbformat": 4,
 "nbformat_minor": 4
}
