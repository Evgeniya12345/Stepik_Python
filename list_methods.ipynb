{
 "cells": [
  {
   "cell_type": "markdown",
   "metadata": {},
   "source": [
    "   На вход программе подается натуральное число n, а затем n строк. Напишите программу, которая создает из указанных строк список и выводит его.\n",
    "\n",
    "    * Формат входных данных\n",
    "На вход программе подаются натуральное число nnn, а затем nnn строк, каждая на отдельной строке.\n",
    "\n",
    "    * Формат выходных данных\n",
    "Программа должна вывести список состоящий из указанных строк."
   ]
  },
  {
   "cell_type": "code",
   "execution_count": null,
   "metadata": {},
   "outputs": [],
   "source": [
    "n = int(input())    # натуральное число\n",
    "lst = []            # создаем список\n",
    "for i in range(5):\n",
    "    v = input() \n",
    "    lst.append()    # добавляем элемент в список\n",
    "print(lst)"
   ]
  },
  {
   "cell_type": "code",
   "execution_count": null,
   "metadata": {},
   "outputs": [],
   "source": [
    "\n"
   ]
  },
  {
   "cell_type": "markdown",
   "metadata": {},
   "source": [
    "Напишите программу, выводящую следующий список:\n",
    "\n",
    "['a', 'bb', 'ccc', 'dddd', 'eeeee', 'ffffff', ...]\n",
    "\n",
    "    * Формат выходных данных\n",
    "Программа должна вывести указанный список.\n",
    "\n",
    "    Примечание. Последний элемент списка состоит из 26 символов z."
   ]
  },
  {
   "cell_type": "code",
   "execution_count": null,
   "metadata": {},
   "outputs": [],
   "source": [
    "lst = []                                      #создаем пустой список\n",
    "count = 1\n",
    "abc = 'abcdefghijklmnopqrstuvwxyz'\n",
    "for i in range(len(abc)):\n",
    "    lst.append(abc[i] * count)                #в пустой список добавляем элементы\n",
    "    count += 1\n",
    "print(lst)                                    #выводим получившийся список"
   ]
  },
  {
   "cell_type": "code",
   "execution_count": null,
   "metadata": {},
   "outputs": [],
   "source": []
  },
  {
   "cell_type": "markdown",
   "metadata": {},
   "source": [
    "На вход программе подается натуральное число nnn, а затем nnn целых чисел. \n",
    "Напишите программу, которая создает из указанных чисел список их кубов."
   ]
  },
  {
   "cell_type": "code",
   "execution_count": null,
   "metadata": {},
   "outputs": [],
   "source": [
    "n = int(input())\n",
    "lst = []\n",
    "for i in range(n):\n",
    "    number = int(input())\n",
    "    lst.append(number ** 3)\n",
    "print(lst)"
   ]
  },
  {
   "cell_type": "code",
   "execution_count": null,
   "metadata": {},
   "outputs": [],
   "source": []
  },
  {
   "cell_type": "markdown",
   "metadata": {},
   "source": [
    "На вход программе подается натуральное число n. \n",
    "Напишите программу, которая создает список состоящий из делителей введенного числа."
   ]
  },
  {
   "cell_type": "code",
   "execution_count": null,
   "metadata": {},
   "outputs": [],
   "source": [
    "n = int(input())\n",
    "lst = []\n",
    "for i in range(1, n + 1):\n",
    "    if n % i == 0:\n",
    "        lst.append(i)\n",
    "print(lst)"
   ]
  },
  {
   "cell_type": "code",
   "execution_count": null,
   "metadata": {},
   "outputs": [],
   "source": []
  },
  {
   "cell_type": "markdown",
   "metadata": {},
   "source": [
    "На вход программе подается натуральное число nnn, \n",
    "а затем n целых чисел. Напишите программу, которая создает из указанных чисел список, \n",
    "затем удаляет все элементы стоящие по нечетным индексам,\n",
    "а затем выводит полученный список."
   ]
  },
  {
   "cell_type": "code",
   "execution_count": null,
   "metadata": {},
   "outputs": [],
   "source": [
    "n = int(input())\n",
    "lst = []\n",
    "for i in range(n):\n",
    "    num = int(input())\n",
    "    lst.append(num)\n",
    "del lst[1::2]   \n",
    "print(lst)"
   ]
  },
  {
   "cell_type": "code",
   "execution_count": null,
   "metadata": {},
   "outputs": [],
   "source": []
  },
  {
   "cell_type": "markdown",
   "metadata": {},
   "source": [
    "На вход программе подается натуральное число nnn, а затем nnn строк.\n",
    "Напишите программу, которая создает список из символов всех строк, \n",
    "а затем выводит его."
   ]
  },
  {
   "cell_type": "code",
   "execution_count": null,
   "metadata": {},
   "outputs": [],
   "source": [
    "n = int(input())\n",
    "lst = []\n",
    "for i in range(n):\n",
    "    s = input()\n",
    "    lst.extend(s)\n",
    "print(lst)"
   ]
  }
 ],
 "metadata": {
  "kernelspec": {
   "display_name": "Python 3",
   "language": "python",
   "name": "python3"
  },
  "language_info": {
   "codemirror_mode": {
    "name": "ipython",
    "version": 3
   },
   "file_extension": ".py",
   "mimetype": "text/x-python",
   "name": "python",
   "nbconvert_exporter": "python",
   "pygments_lexer": "ipython3",
   "version": "3.7.3"
  }
 },
 "nbformat": 4,
 "nbformat_minor": 4
}
