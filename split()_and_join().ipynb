{
 "cells": [
  {
   "cell_type": "markdown",
   "metadata": {},
   "source": [
    "На вход программе подается строка текста. \n",
    "Напишите программу, которая выводит слова введенной строки в столбик."
   ]
  },
  {
   "cell_type": "code",
   "execution_count": null,
   "metadata": {},
   "outputs": [],
   "source": [
    "n = input()\n",
    "lst = n.split()\n",
    "lst_2 = '\\n'.join(lst)\n",
    "print(lst_2)"
   ]
  },
  {
   "cell_type": "code",
   "execution_count": null,
   "metadata": {},
   "outputs": [],
   "source": []
  },
  {
   "cell_type": "markdown",
   "metadata": {},
   "source": [
    "На вход программе подается строка текста, содержащая имя, отчество и фамилию человека.\n",
    "Напишите программу, которая выводит инициалы человека."
   ]
  },
  {
   "cell_type": "code",
   "execution_count": null,
   "metadata": {},
   "outputs": [],
   "source": [
    "name = input()\n",
    "name = name.split()\n",
    "\n",
    "lst =(name[0][0],name[1][0], name[2][0])\n",
    "lst_2 = '.'.join(lst)\n",
    "print(lst_2, end = '.')"
   ]
  },
  {
   "cell_type": "code",
   "execution_count": null,
   "metadata": {},
   "outputs": [],
   "source": []
  },
  {
   "cell_type": "code",
   "execution_count": null,
   "metadata": {},
   "outputs": [],
   "source": [
    "В операционной системе Windows полное имя файла состоит из буквы диска,\n",
    "после которого ставится двоеточие и символ  \"\\\",  \n",
    "затем через такой же символ перечисляются подкаталоги (папки), \n",
    "в которых находится файл, в конце пишется имя файла (C:\\Windows\\System32\\calc.exe).\n",
    "\n",
    "На вход программе подается одна строка с корректным именем файла в операционной системе Windows.\n",
    "Напишите программу, которая разбирает строку на части, разделенные символом \"\\\".\n",
    "Каждую часть вывести в отдельной строке."
   ]
  },
  {
   "cell_type": "code",
   "execution_count": null,
   "metadata": {},
   "outputs": [],
   "source": [
    "s = input().split('\\\\')\n",
    "s = '\\n'.join(s)\n",
    "print(s)"
   ]
  }
 ],
 "metadata": {
  "kernelspec": {
   "display_name": "Python 3",
   "language": "python",
   "name": "python3"
  },
  "language_info": {
   "codemirror_mode": {
    "name": "ipython",
    "version": 3
   },
   "file_extension": ".py",
   "mimetype": "text/x-python",
   "name": "python",
   "nbconvert_exporter": "python",
   "pygments_lexer": "ipython3",
   "version": "3.7.3"
  }
 },
 "nbformat": 4,
 "nbformat_minor": 4
}
