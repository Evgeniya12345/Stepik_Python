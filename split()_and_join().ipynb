{
 "cells": [
  {
   "cell_type": "markdown",
   "metadata": {},
   "source": [
    "На вход программе подается строка текста. \n",
    "Напишите программу, которая выводит слова введенной строки в столбик."
   ]
  },
  {
   "cell_type": "code",
   "execution_count": null,
   "metadata": {},
   "outputs": [],
   "source": [
    "n = input()\n",
    "lst = n.split()\n",
    "lst_2 = '\\n'.join(lst)\n",
    "print(lst_2)"
   ]
  },
  {
   "cell_type": "code",
   "execution_count": null,
   "metadata": {},
   "outputs": [],
   "source": []
  },
  {
   "cell_type": "markdown",
   "metadata": {},
   "source": [
    "На вход программе подается строка текста, содержащая имя, отчество и фамилию человека.\n",
    "Напишите программу, которая выводит инициалы человека."
   ]
  },
  {
   "cell_type": "code",
   "execution_count": null,
   "metadata": {},
   "outputs": [],
   "source": [
    "name = input()\n",
    "name = name.split()\n",
    "\n",
    "lst =(name[0][0],name[1][0], name[2][0])\n",
    "lst_2 = '.'.join(lst)\n",
    "print(lst_2, end = '.')"
   ]
  },
  {
   "cell_type": "code",
   "execution_count": null,
   "metadata": {},
   "outputs": [],
   "source": []
  },
  {
   "cell_type": "code",
   "execution_count": null,
   "metadata": {},
   "outputs": [],
   "source": [
    "В операционной системе Windows полное имя файла состоит из буквы диска,\n",
    "после которого ставится двоеточие и символ  \"\\\",  \n",
    "затем через такой же символ перечисляются подкаталоги (папки), \n",
    "в которых находится файл, в конце пишется имя файла (C:\\Windows\\System32\\calc.exe).\n",
    "\n",
    "На вход программе подается одна строка с корректным именем файла в операционной системе Windows.\n",
    "Напишите программу, которая разбирает строку на части, разделенные символом \"\\\".\n",
    "Каждую часть вывести в отдельной строке."
   ]
  },
  {
   "cell_type": "code",
   "execution_count": null,
   "metadata": {},
   "outputs": [],
   "source": [
    "s = input().split('\\\\')\n",
    "s = '\\n'.join(s)\n",
    "print(s)"
   ]
  },
  {
   "cell_type": "code",
   "execution_count": null,
   "metadata": {},
   "outputs": [],
   "source": []
  },
  {
   "cell_type": "markdown",
   "metadata": {},
   "source": [
    "На вход программе подается строка текста, содержащая целые числа. \n",
    "Напишите программу, которая по заданным числам строит столбчатую диаграмму."
   ]
  },
  {
   "cell_type": "code",
   "execution_count": null,
   "metadata": {},
   "outputs": [],
   "source": [
    "n = input().split()\n",
    "for i in range(len(n)):\n",
    "    n[i] = int(n[i])\n",
    "    \n",
    "    print(n[i] * '+')"
   ]
  },
  {
   "cell_type": "code",
   "execution_count": null,
   "metadata": {},
   "outputs": [],
   "source": []
  },
  {
   "cell_type": "markdown",
   "metadata": {},
   "source": [
    "На вход программе подается строка текста, содержащая 4 целых числа разделенных точкой. \n",
    "Напишите программу, которая определяет является ли введенная строка текста корректным ip-адресом.\n",
    "\n",
    "    * Формат входных данных\n",
    "На вход программе подается строка текста, содержащая 4 целых числа разделенных точкой.\n",
    "\n",
    "    * Формат выходных данных\n",
    "Программа должна вывести «ДА», если введеная строка является корректным ip-адресом, \n",
    "и «НЕТ» — в противном случае.\n",
    "\n",
    "Примечание. ip-адрес является корректным, если все 4 числа находятся в диапазоне от 0 до 255 включительно."
   ]
  },
  {
   "cell_type": "code",
   "execution_count": null,
   "metadata": {},
   "outputs": [],
   "source": [
    "n = input().split('.')\n",
    "counter = 0\n",
    "for i in range(len(n)):\n",
    "    \n",
    "    if int(n[i]) >= 0 and int(n[i]) <= 255:\n",
    "        counter += 1\n",
    "if counter == 4:\n",
    "    print('ДА')\n",
    "else:\n",
    "    print('НЕТ')"
   ]
  },
  {
   "cell_type": "code",
   "execution_count": null,
   "metadata": {},
   "outputs": [],
   "source": []
  },
  {
   "cell_type": "markdown",
   "metadata": {},
   "source": [
    "На вход программе подается строка текста и строка разделитель. Напишите программу, \n",
    "которая вставляет указанный разделитель между каждым символом введенной строки текста."
   ]
  },
  {
   "cell_type": "code",
   "execution_count": null,
   "metadata": {},
   "outputs": [],
   "source": [
    "n = input()\n",
    "print(input().join(n))"
   ]
  },
  {
   "cell_type": "code",
   "execution_count": null,
   "metadata": {},
   "outputs": [],
   "source": []
  },
  {
   "cell_type": "code",
   "execution_count": null,
   "metadata": {},
   "outputs": [],
   "source": []
  }
 ],
 "metadata": {
  "kernelspec": {
   "display_name": "Python 3",
   "language": "python",
   "name": "python3"
  },
  "language_info": {
   "codemirror_mode": {
    "name": "ipython",
    "version": 3
   },
   "file_extension": ".py",
   "mimetype": "text/x-python",
   "name": "python",
   "nbconvert_exporter": "python",
   "pygments_lexer": "ipython3",
   "version": "3.7.3"
  }
 },
 "nbformat": 4,
 "nbformat_minor": 4
}
